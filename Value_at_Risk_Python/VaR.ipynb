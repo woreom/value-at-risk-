{
 "cells": [
  {
   "cell_type": "markdown",
   "metadata": {
    "colab_type": "text",
    "id": "view-in-github"
   },
   "source": [
    "<a href=\"https://colab.research.google.com/github/jhihan/Value_at_Risk_Python/blob/master/VaR.ipynb\" target=\"_parent\"><img src=\"https://colab.research.google.com/assets/colab-badge.svg\" alt=\"Open In Colab\"/></a>"
   ]
  },
  {
   "cell_type": "code",
   "execution_count": 1,
   "metadata": {
    "colab": {
     "base_uri": "https://localhost:8080/",
     "height": 309
    },
    "colab_type": "code",
    "id": "av5Mm9F_0egA",
    "outputId": "5b89f591-decd-42a7-8f8e-cfa99a2c630e"
   },
   "outputs": [
    {
     "name": "stdout",
     "output_type": "stream",
     "text": [
      "Collecting arch\n",
      "\u001b[?25l  Downloading https://files.pythonhosted.org/packages/b7/05/241c4238e9ee8cfb78b2053c059fb5ce6d1bc32a1266eb99a39e96a00069/arch-4.10.0-cp36-cp36m-manylinux1_x86_64.whl (710kB)\n",
      "\u001b[K     |████████████████████████████████| 716kB 2.8MB/s \n",
      "\u001b[?25hRequirement already satisfied: statsmodels>=0.9 in /usr/local/lib/python3.6/dist-packages (from arch) (0.10.1)\n",
      "Requirement already satisfied: cython>=0.29 in /usr/local/lib/python3.6/dist-packages (from arch) (0.29.13)\n",
      "Collecting property-cached>=1.6.2\n",
      "  Downloading https://files.pythonhosted.org/packages/c0/11/6e91ff5fe0476492f023cebad434a1a34fc513cfa98ddb1f3e5c856d2d99/property_cached-1.6.3-py2.py3-none-any.whl\n",
      "Requirement already satisfied: pandas>=0.22 in /usr/local/lib/python3.6/dist-packages (from arch) (0.25.2)\n",
      "Requirement already satisfied: scipy>=1.0 in /usr/local/lib/python3.6/dist-packages (from arch) (1.3.1)\n",
      "Requirement already satisfied: numpy>=1.14 in /usr/local/lib/python3.6/dist-packages (from arch) (1.17.3)\n",
      "Requirement already satisfied: patsy>=0.4.0 in /usr/local/lib/python3.6/dist-packages (from statsmodels>=0.9->arch) (0.5.1)\n",
      "Requirement already satisfied: pytz>=2017.2 in /usr/local/lib/python3.6/dist-packages (from pandas>=0.22->arch) (2018.9)\n",
      "Requirement already satisfied: python-dateutil>=2.6.1 in /usr/local/lib/python3.6/dist-packages (from pandas>=0.22->arch) (2.6.1)\n",
      "Requirement already satisfied: six in /usr/local/lib/python3.6/dist-packages (from patsy>=0.4.0->statsmodels>=0.9->arch) (1.12.0)\n",
      "Installing collected packages: property-cached, arch\n",
      "Successfully installed arch-4.10.0 property-cached-1.6.3\n"
     ]
    }
   ],
   "source": [
    "pip install arch"
   ]
  },
  {
   "cell_type": "code",
   "execution_count": null,
   "metadata": {
    "colab": {},
    "colab_type": "code",
    "id": "XC7Ce1A_zoF_"
   },
   "outputs": [],
   "source": [
    "# example of ARCH model\n",
    "import numpy as np\n",
    "from random import gauss\n",
    "from random import seed\n",
    "from matplotlib import pyplot\n",
    "from arch import arch_model\n",
    "import pandas as pd\n",
    "from scipy.stats import binom"
   ]
  },
  {
   "cell_type": "markdown",
   "metadata": {
    "colab_type": "text",
    "id": "TlKwBVLjQqUY"
   },
   "source": [
    "Read and preprocess the data such as calculating the continously compounded return."
   ]
  },
  {
   "cell_type": "code",
   "execution_count": null,
   "metadata": {
    "colab": {},
    "colab_type": "code",
    "id": "e_-w3EY12eHo"
   },
   "outputs": [],
   "source": [
    "# here we use the USD YEN exchange rate as an example\n",
    "# Data is downloaded from https://www.macrotrends.net/2550/dollar-yen-exchange-rate-historical-chart\n",
    "data = pd.read_csv(\"dollar-yen-exchange-rate-historical-chart.csv\", header = 8) "
   ]
  },
  {
   "cell_type": "code",
   "execution_count": 4,
   "metadata": {
    "colab": {
     "base_uri": "https://localhost:8080/",
     "height": 204
    },
    "colab_type": "code",
    "id": "EjaJZtf7Kt7A",
    "outputId": "4c3abf6a-2a64-4af9-8756-b9403bb906f2"
   },
   "outputs": [
    {
     "data": {
      "text/html": [
       "<div>\n",
       "<style scoped>\n",
       "    .dataframe tbody tr th:only-of-type {\n",
       "        vertical-align: middle;\n",
       "    }\n",
       "\n",
       "    .dataframe tbody tr th {\n",
       "        vertical-align: top;\n",
       "    }\n",
       "\n",
       "    .dataframe thead th {\n",
       "        text-align: right;\n",
       "    }\n",
       "</style>\n",
       "<table border=\"1\" class=\"dataframe\">\n",
       "  <thead>\n",
       "    <tr style=\"text-align: right;\">\n",
       "      <th></th>\n",
       "      <th>date</th>\n",
       "      <th>value</th>\n",
       "    </tr>\n",
       "  </thead>\n",
       "  <tbody>\n",
       "    <tr>\n",
       "      <th>12385</th>\n",
       "      <td>2019-10-26</td>\n",
       "      <td>108.6650</td>\n",
       "    </tr>\n",
       "    <tr>\n",
       "      <th>12386</th>\n",
       "      <td>2019-10-28</td>\n",
       "      <td>108.9695</td>\n",
       "    </tr>\n",
       "    <tr>\n",
       "      <th>12387</th>\n",
       "      <td>2019-10-29</td>\n",
       "      <td>108.8665</td>\n",
       "    </tr>\n",
       "    <tr>\n",
       "      <th>12388</th>\n",
       "      <td>2019-10-30</td>\n",
       "      <td>108.8185</td>\n",
       "    </tr>\n",
       "    <tr>\n",
       "      <th>12389</th>\n",
       "      <td>2019-10-31</td>\n",
       "      <td>108.1675</td>\n",
       "    </tr>\n",
       "  </tbody>\n",
       "</table>\n",
       "</div>"
      ],
      "text/plain": [
       "             date     value\n",
       "12385  2019-10-26  108.6650\n",
       "12386  2019-10-28  108.9695\n",
       "12387  2019-10-29  108.8665\n",
       "12388  2019-10-30  108.8185\n",
       "12389  2019-10-31  108.1675"
      ]
     },
     "execution_count": 4,
     "metadata": {
      "tags": []
     },
     "output_type": "execute_result"
    }
   ],
   "source": [
    "data.tail()"
   ]
  },
  {
   "cell_type": "code",
   "execution_count": 5,
   "metadata": {
    "colab": {
     "base_uri": "https://localhost:8080/",
     "height": 224
    },
    "colab_type": "code",
    "id": "MpLgfW9CI6fZ",
    "outputId": "4526912e-964c-4165-8634-c3031afd8555"
   },
   "outputs": [
    {
     "name": "stderr",
     "output_type": "stream",
     "text": [
      "/usr/local/lib/python3.6/dist-packages/pandas/core/frame.py:4238: SettingWithCopyWarning: \n",
      "A value is trying to be set on a copy of a slice from a DataFrame\n",
      "\n",
      "See the caveats in the documentation: http://pandas.pydata.org/pandas-docs/stable/user_guide/indexing.html#returning-a-view-versus-a-copy\n",
      "  return super().rename(**kwargs)\n",
      "/usr/local/lib/python3.6/dist-packages/ipykernel_launcher.py:3: SettingWithCopyWarning: \n",
      "A value is trying to be set on a copy of a slice from a DataFrame.\n",
      "Try using .loc[row_indexer,col_indexer] = value instead\n",
      "\n",
      "See the caveats in the documentation: http://pandas.pydata.org/pandas-docs/stable/user_guide/indexing.html#returning-a-view-versus-a-copy\n",
      "  This is separate from the ipykernel package so we can avoid doing imports until\n"
     ]
    }
   ],
   "source": [
    "# preprocessing the data\n",
    "df=data[(data['date'] >= '2009-10-31') & (data['date'] <= '2019-10-31')]\n",
    "df.rename(columns={' value':'value'}, inplace=True)\n",
    "df['return']=df.value.pct_change()\n",
    "# define a new list which ignore the first (index 0) NAN value\n",
    "return_list=df['return'].tolist()[1:]"
   ]
  },
  {
   "cell_type": "markdown",
   "metadata": {
    "colab_type": "text",
    "id": "41E2WxK-P9RO"
   },
   "source": [
    "GARCH(1,1) model is used to determined the volatility."
   ]
  },
  {
   "cell_type": "code",
   "execution_count": 6,
   "metadata": {
    "colab": {
     "base_uri": "https://localhost:8080/",
     "height": 768
    },
    "colab_type": "code",
    "id": "E-RHDDEcN7bf",
    "outputId": "3d9c580f-56c8-404f-a281-73d3214e68f1"
   },
   "outputs": [
    {
     "name": "stdout",
     "output_type": "stream",
     "text": [
      "Iteration:      1,   Func. Count:      5,   Neg. LLF: -10085.986032212\n",
      "Positive directional derivative for linesearch    (Exit mode 8)\n",
      "            Current function value: -10085.986035013902\n",
      "            Iterations: 5\n",
      "            Function evaluations: 5\n",
      "            Gradient evaluations: 1\n",
      "                       Zero Mean - GARCH Model Results                        \n",
      "==============================================================================\n",
      "Dep. Variable:                      y   R-squared:                       0.000\n",
      "Mean Model:                 Zero Mean   Adj. R-squared:                  0.000\n",
      "Vol Model:                      GARCH   Log-Likelihood:                10086.0\n",
      "Distribution:                  Normal   AIC:                          -20166.0\n",
      "Method:            Maximum Likelihood   BIC:                          -20148.3\n",
      "                                        No. Observations:                 2646\n",
      "Date:                Fri, Nov 01 2019   Df Residuals:                     2643\n",
      "Time:                        08:55:04   Df Model:                            3\n",
      "                              Volatility Model                              \n",
      "============================================================================\n",
      "                 coef    std err          t      P>|t|      95.0% Conf. Int.\n",
      "----------------------------------------------------------------------------\n",
      "omega      6.5006e-07  3.058e-11  2.126e+04      0.000 [6.500e-07,6.501e-07]\n",
      "alpha[1]       0.0500  7.916e-03      6.317  2.674e-10 [3.449e-02,6.551e-02]\n",
      "beta[1]        0.9300  7.033e-03    132.234      0.000     [  0.916,  0.944]\n",
      "============================================================================\n",
      "\n",
      "Covariance estimator: robust\n",
      "\n",
      "WARNING: The optimizer did not indicate successful convergence. The message was\n",
      "Positive directional derivative for linesearch. See convergence_flag.\n"
     ]
    },
    {
     "name": "stderr",
     "output_type": "stream",
     "text": [
      "/usr/local/lib/python3.6/dist-packages/arch/univariate/base.py:260: DataScaleWarning: y is poorly scaled, which may affect convergence of the optimizer when\n",
      "estimating the model parameters. The scale of y is 3.25e-05. Parameter\n",
      "estimation work better when this value is between 1 and 1000. The recommended\n",
      "rescaling is 1000 * y.\n",
      "\n",
      "This warning can be disabled by either rescaling y before initializing the\n",
      "model or by setting rescale=False.\n",
      "\n",
      "  DataScaleWarning)\n",
      "/usr/local/lib/python3.6/dist-packages/arch/univariate/base.py:605: ConvergenceWarning: The optimizer returned code 8. The message is:\n",
      "Positive directional derivative for linesearch\n",
      "See scipy.optimize.fmin_slsqp for code meaning.\n",
      "\n",
      "  ConvergenceWarning)\n"
     ]
    }
   ],
   "source": [
    "# Using GARCH(1,1) to determine the volatility\n",
    "model = arch_model(return_list, mean='Zero', vol='GARCH', p=1, q=1)\n",
    "model_fit = model.fit()\n",
    "volatility = model_fit.conditional_volatility\n",
    "print(model_fit.summary())"
   ]
  },
  {
   "cell_type": "markdown",
   "metadata": {
    "colab_type": "text",
    "id": "gXxF-vwnUFfU"
   },
   "source": [
    "Estimate the Volatility in the next date with the GARCH(1,1) model"
   ]
  },
  {
   "cell_type": "code",
   "execution_count": 7,
   "metadata": {
    "colab": {
     "base_uri": "https://localhost:8080/",
     "height": 34
    },
    "colab_type": "code",
    "id": "e3EuHIKqUFGf",
    "outputId": "2df7562d-c1c0-4d8f-8ed7-35878213f98b"
   },
   "outputs": [
    {
     "name": "stdout",
     "output_type": "stream",
     "text": [
      "vola= 0.0038338334199308896\n"
     ]
    }
   ],
   "source": [
    "# Estimate the volatility in the next date\n",
    "omega = model_fit.params['omega'] \n",
    "alpha = model_fit.params['alpha[1]']\n",
    "beta = model_fit.params['beta[1]']\n",
    "vola_estimate = omega + alpha * np.power(return_list[-1] , 2)  + beta * np.power( volatility[-1] , 2 )\n",
    "vola_estimate = np.sqrt(vola_estimate)\n",
    "print('The volatility in the next date=', vola_estimate )\n",
    "#return_scienarios = []\n",
    "#for i in range(0,return_list)"
   ]
  },
  {
   "cell_type": "markdown",
   "metadata": {
    "colab_type": "text",
    "id": "4KJXGsPbLYov"
   },
   "source": [
    "Value at Risk Calculation: historical simulation with volatility updating"
   ]
  },
  {
   "cell_type": "code",
   "execution_count": null,
   "metadata": {
    "colab": {},
    "colab_type": "code",
    "id": "V_5xkz4Wl1Pz"
   },
   "outputs": [],
   "source": [
    "# calculate the predicted value in the next date under different scenario and inporporate volatility updating\n",
    "Market_scienarios = []\n",
    "N_history = len(return_list)\n",
    "Value_current = df.loc[df.index[-1], 'value']\n",
    "df.loc[df.index[-1], 'value']\n",
    "for i in range(0, N_history ):\n",
    "  Market_value = Value_current *  ( 1 + return_list[i] * vola_estimate/volatility[i] )\n",
    "  Market_scienarios.append(Market_value)"
   ]
  },
  {
   "cell_type": "code",
   "execution_count": 11,
   "metadata": {
    "colab": {
     "base_uri": "https://localhost:8080/",
     "height": 34
    },
    "colab_type": "code",
    "id": "jg2kWLUWl1CM",
    "outputId": "49688cf9-4221-40db-e352-4e120e34d6d3"
   },
   "outputs": [
    {
     "name": "stdout",
     "output_type": "stream",
     "text": [
      "The 1 day 95 % VaR: 0.64802029956887\n"
     ]
    }
   ],
   "source": [
    "# Value at Risk (VaR) determination\n",
    "# CL_Var: condifence level for VaR\n",
    "CL_VaR = 95\n",
    "Value_current = df.loc[df.index[-1], 'value']\n",
    "Value_at_Risk = np.percentile(Market_scienarios,100-CL_VaR) -  Value_current\n",
    "print(\"The 1 day\", CL_VaR,\"% VaR:\", -Value_at_Risk)"
   ]
  },
  {
   "cell_type": "code",
   "execution_count": 24,
   "metadata": {
    "colab": {
     "base_uri": "https://localhost:8080/",
     "height": 295
    },
    "colab_type": "code",
    "id": "ZLxs5LYPl04T",
    "outputId": "706029cf-b809-49e8-8fa0-d62d6d632966"
   },
   "outputs": [
    {
     "data": {
      "image/png": "[encoded data removed]",
      "text/plain": [
       "<Figure size 432x288 with 1 Axes>"
      ]
     },
     "metadata": {
      "tags": []
     },
     "output_type": "display_data"
    }
   ],
   "source": [
    "# Make the histogram of loss for the scenaros considered between current date and the next date\n",
    "import matplotlib.pyplot as plt\n",
    "mss = np.asarray(Value_current - Market_scienarios )\n",
    "\n",
    "plt.xlim([min(mss), max(mss)])\n",
    "\n",
    "plt.hist(mss, bins='auto', alpha=0.5)\n",
    "plt.title('Plot of loss for the scenaros')\n",
    "plt.xlabel('Loss')\n",
    "plt.ylabel('Frequency')\n",
    "plt.axvline( -Value_at_Risk , color='k', linestyle='dashed', linewidth=1)\n",
    "min_ylim, max_ylim = plt.ylim()\n",
    "plt.text(-Value_at_Risk*1.1, max_ylim*0.9, '{}% VaR: {:.2f}'.format(CL_VaR ,-Value_at_Risk))\n",
    "plt.show()"
   ]
  },
  {
   "cell_type": "markdown",
   "metadata": {
    "colab_type": "text",
    "id": "GdR_yJpCELCA"
   },
   "source": [
    "Value-at-Risk backtesting:\n",
    "here the binomial one-tailed test is used"
   ]
  },
  {
   "cell_type": "code",
   "execution_count": 26,
   "metadata": {
    "colab": {
     "base_uri": "https://localhost:8080/",
     "height": 51
    },
    "colab_type": "code",
    "id": "XCj_nmDdEKAJ",
    "outputId": "cec7515f-fb18-45c7-a580-e206caef50f7"
   },
   "outputs": [
    {
     "name": "stdout",
     "output_type": "stream",
     "text": [
      "We look at total 2646 days. VaR level is reached at 133 days.\n",
      "This VaR model is accepted at 95 % confidence level.\n"
     ]
    }
   ],
   "source": [
    "# Confidence level for backtesting\n",
    "CL_backtesting = 95\n",
    "# The probability of the VaR beeing exceeded on given day\n",
    "p = 1 - CL_VaR/100\n",
    "N_confidence = binom.ppf( CL_backtesting*0.01, N_history, p)\n",
    "N_exceeded = sum( v < Value_at_Risk + Value_current for v in Market_scienarios)\n",
    "\n",
    "print(\"We look at total\", N_history,\"days. VaR level is reached at\", N_exceeded , \"days.\")\n",
    "if N_exceeded <= N_confidence:\n",
    "  print (\"This VaR model is accepted at\", CL_backtesting,\"% confidence level.\")\n",
    "else:\n",
    "  print (\"This VaR model is rejected at\", CL_backtesting,\"% confidence level.\")"
   ]
  }
 ],
 "metadata": {
  "colab": {
   "include_colab_link": true,
   "name": "VaR.ipynb",
   "provenance": []
  },
  "kernelspec": {
   "display_name": "Python 3",
   "language": "python",
   "name": "python3"
  },
  "language_info": {
   "codemirror_mode": {
    "name": "ipython",
    "version": 3
   },
   "file_extension": ".py",
   "mimetype": "text/x-python",
   "name": "python",
   "nbconvert_exporter": "python",
   "pygments_lexer": "ipython3",
   "version": "3.8.10"
  }
 },
 "nbformat": 4,
 "nbformat_minor": 4
}
