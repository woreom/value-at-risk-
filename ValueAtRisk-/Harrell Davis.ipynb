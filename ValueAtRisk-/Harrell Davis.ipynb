{
  "cells": [
    {
      "metadata": {
        "trusted": false
      },
      "cell_type": "code",
      "source": "http://scipy.github.io/devdocs/stats.mstats.html\nhttps://github.com/GRousselet/blog/tree/master/harrell-davis\nhttps://rdrr.io/github/GRousselet/rogme/src/R/stats.R",
      "execution_count": null,
      "outputs": []
    },
    {
      "metadata": {
        "trusted": false
      },
      "cell_type": "code",
      "source": "import numpy as np \nimport random \nimport math as m \nimport scipy.special \n\n\nn = 10000       #total number of simulations\n\nA1 = np.zeros(n)   #Asset 1 with n returns \nA2 = np.zeros(n)\nA3 = np.zeros(n)\nReturn = np.zeros(n)    #Overall Return of the Portfolio\nweights = [0.2,0.45,0.35]    #Weights of each asset in the portfolio\n\nif sum(weights) != 1: \n    raise ValueError('Sum of the weights should equal 1')\n    \nfor i in range(n): \n    epsilon = random.gauss(0,0.5)   #to do correlation between the asset classes\n    X_i = random.gauss(0,1)     #picking random float number where mean=0 and variance = 1\n    A1[i] = X_i\n    A2[i] = random.uniform(X_i,X_i+epsilon)   #Correlating A2 such that it is always greater than A1\n    A3[i] = random.uniform(A2[i]-epsilon,A2[i])\n    Return[i] = weights[0]*A1[i] + weights[1]*A2[i] + weights[2]*A3[i]      #Calculating return of portfolio\n\norder_Return = sorted(Return,key = float)       #Sorting it in ascending order so we can pick the 5% th for VaR\n\nOrder_A1 = np.array(sorted(A1,key = float))      #Also placing Assets in ascending order\nOrder_A2 = np.array(sorted(A2,key = float))\nOrder_A3 = np.array(sorted(A3,key = float))\n\np = 0.05   #quantile\n\ndef W(A, p):\n#Calculates the Harrell Davis Weights for a given Asset Class '''\n        n = len(A)\n        return [(scipy.special.betainc(p*(n + 1), (1 - p)*(n + 1), (i + 1)/float(n)))- \n                (scipy.special.betainc(p*(n + 1), (1 - p)*(n + 1), (i)/float(n))) for i in range(n)]\n\nprint('Individual VaR for A1: %f' %(W(A1,p)@Order_A1))   #Calculates individual VaR by doing dot product of HD Weights @ Order_A1\nprint('Individual VaR for A2: %f' %(W(A2,p)@Order_A2))\nprint('Individual VaR for A3: %f' %(W(A3,p)@Order_A3))\n\n#Summing for Portfolio VaR\nSum_Component_VaR = weights[0]*(W(A1,p)@Order_A1) + weights[1]*(W(A2,p)@Order_A2) + weights[2]*(W(A3,p)@Order_A3)  \n\nprint()\n\nprint('Sum of component VaR: %f' %(Sum_Component_VaR))\nprint('Total Standalone VaR: %f' %order_Return[m.floor(n*p-1)])  #Checking that Sum_Component_VaR approx. Standalone VaR\n\ndelta = 0.01\nRelative_error = abs(Sum_Component_VaR-order_Return[m.floor(n*p-1)])/abs(order_Return[m.floor(n*p-1)])\n\nprint()\n\nif  Relative_error <= delta : \n    print('Harrell Davis gives a good approximation of VaR of portfolio with Statistic Error of %0.2f%%' %(Relative_error*100))\nelse: \n    print('Harrell Davis gives poor approximation of Standalone VaR with error of %0.2f%%' %(Relative_error*100))",
      "execution_count": 7,
      "outputs": [
        {
          "name": "stdout",
          "output_type": "stream",
          "text": "Individual VaR for A1: -1.620757\nIndividual VaR for A2: -1.710293\nIndividual VaR for A3: -1.654191\n\nSum of component VaR: -1.672750\nTotal Standalone VaR: -1.655662\n\nHarrell Davis gives poor approximation of Standalone VaR with error of 1.03%\n"
        }
      ]
    },
    {
      "metadata": {
        "trusted": false
      },
      "cell_type": "code",
      "source": "",
      "execution_count": null,
      "outputs": []
    },
    {
      "metadata": {
        "trusted": false
      },
      "cell_type": "code",
      "source": "",
      "execution_count": null,
      "outputs": []
    },
    {
      "metadata": {
        "trusted": false
      },
      "cell_type": "code",
      "source": "",
      "execution_count": null,
      "outputs": []
    }
  ],
  "metadata": {
    "kernelspec": {
      "name": "python36",
      "display_name": "Python 3.6",
      "language": "python"
    },
    "language_info": {
      "mimetype": "text/x-python",
      "nbconvert_exporter": "python",
      "name": "python",
      "pygments_lexer": "ipython3",
      "version": "3.6.6",
      "file_extension": ".py",
      "codemirror_mode": {
        "version": 3,
        "name": "ipython"
      }
    }
  },
  "nbformat": 4,
  "nbformat_minor": 2
}